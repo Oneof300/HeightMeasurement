{
 "cells": [
  {
   "cell_type": "code",
   "execution_count": 65,
   "metadata": {},
   "outputs": [
    {
     "data": {
      "text/plain": [
       "-1"
      ]
     },
     "execution_count": 65,
     "metadata": {},
     "output_type": "execute_result"
    }
   ],
   "source": [
    "import cv2 as cv\n",
    "import numpy as np\n",
    "import matplotlib.pyplot as plt\n",
    "\n",
    "def calculateVanishingPt(l1, l2):\n",
    "  cross1 = np.cross(a = np.array([l1[0], l1[1], 1]), b = np.array([l1[2], l1[3], 1]))\n",
    "  cross2 = np.cross(a = np.array([l2[0], l2[1], 1]), b = np.array([l2[2], l2[3], 1]))\n",
    "  cross3 = np.cross(a = cross1, b = cross2)\n",
    "  cross3 = cross3 / cross3[2]\n",
    "  return cross3[:2]\n",
    "    \n",
    "# Loads an image\n",
    "src = cv.imread(\"./data/table_bottle_01.jpg\", cv.IMREAD_GRAYSCALE)\n",
    "# Check if image is loaded fine\n",
    "if src is None:\n",
    "    print (\"Error opening image!\")\n",
    "    exit()\n",
    "    \n",
    "# Edge detection   \n",
    "dst = cv.Canny(src, 100, 200, None, 3)\n",
    "\n",
    "# Copy edges to the images that will display the results in BGR\n",
    "cdst = cv.cvtColor(dst, cv.COLOR_GRAY2BGR)\n",
    "lines = cv.HoughLinesP(dst, 1, np.pi / 720, 50, None, 150, 10)\n",
    "vanishingPts = []\n",
    "linePairs = []\n",
    "vanishingPtSelection = []\n",
    "\n",
    "if lines is None:\n",
    "    print (\"Error could not find lines!\")\n",
    "    exit()\n",
    "\n",
    "for i in range(0, len(lines)):\n",
    "    l1 = lines[i][0]\n",
    "    \n",
    "    for j in range(i + 1, len(lines)):\n",
    "        l2 = lines[j][0]\n",
    "        lvec1 = np.array([l1[0], l1[1]]) - np.array([l1[2], l1[3]])\n",
    "        lvec1 = lvec1 / np.linalg.norm(lvec1)\n",
    "        lvec2 = np.array([l2[0], l2[1]]) - np.array([l2[2], l2[3]])\n",
    "        lvec2 = lvec2 / np.linalg.norm(lvec2)\n",
    "        # compare angle\n",
    "        if np.arccos(abs(np.dot(lvec1, lvec2))) < np.deg2rad(20):\n",
    "            lvec1ort = np.array([lvec1[0], -lvec2[1]])\n",
    "            ldist = np.dot(lvec1ort, np.array([l1[2], l1[3]]) - np.array([l2[2], l2[3]]))\n",
    "            if ldist > 500:\n",
    "                vanishingPts.append(calculateVanishingPt(l1, l2))\n",
    "                linePairs.append((l1, l2))\n",
    "\n",
    "for i in range(0, len(vanishingPts)):\n",
    "    closePtsCount = 0\n",
    "    for j in range(i + 1, len(vanishingPts)):\n",
    "        if abs(vanishingPts[i][0] - vanishingPts[j][0]) > 10 and abs(vanishingPts[i][1] - vanishingPts[j][1]) < 1000:\n",
    "            closePtsCount += 1\n",
    "    if closePtsCount > 0:\n",
    "        vanishingPtSelection.append(i)\n",
    "\n",
    "for i in vanishingPtSelection:\n",
    "    cv.line(cdst, (linePairs[i][0][0], linePairs[i][0][1]), vanishingPts[i].astype(np.int32), (0,0,255), 3, cv.LINE_AA)\n",
    "\n",
    "cv.imshow(\"Detected Lines (in red) - Probabilistic Line Transform\", cv.resize(cdst, (0,0), fx = 0.5, fy = 0.5))\n",
    "cv.waitKey()"
   ]
  },
  {
   "cell_type": "code",
   "execution_count": null,
   "metadata": {},
   "outputs": [],
   "source": [
    "import cv2 as cv\n",
    "import numpy as np\n",
    "import matplotlib.pyplot as plt\n",
    "\n",
    "l1 = np.array([[0, 0], [1, 10]])\n",
    "l2 = np.array([[0, 0], [2, 10]])\n",
    "lines = np.array([l1, l2])\n",
    "plt.plot(x[:,0], x[:,1], '-')"
   ]
  },
  {
   "cell_type": "code",
   "execution_count": 50,
   "metadata": {},
   "outputs": [
    {
     "name": "stdout",
     "output_type": "stream",
     "text": [
      "5\n",
      "27\n"
     ]
    },
    {
     "data": {
      "image/png": "[encoded data removed]",
      "text/plain": [
       "<Figure size 432x288 with 1 Axes>"
      ]
     },
     "metadata": {
      "needs_background": "light"
     },
     "output_type": "display_data"
    }
   ],
   "source": [
    "x = np.array(vanishingPts)\n",
    "x = x[vanishingPtSelection]\n",
    "plt.plot(x[:,0], x[:,1], '.')\n",
    "print(len(vanishingPtSelection))\n",
    "print(len(lines))"
   ]
  }
 ],
 "metadata": {
  "interpreter": {
   "hash": "706df5169beef99eaa6878f95bb41feeb1d349ee87422afa1f8cf98944b0093f"
  },
  "kernelspec": {
   "display_name": "Python 3.10.2 64-bit",
   "language": "python",
   "name": "python3"
  },
  "language_info": {
   "name": "python",
   "version": "3.10.2"
  },
  "orig_nbformat": 4
 },
 "nbformat": 4,
 "nbformat_minor": 2
}
